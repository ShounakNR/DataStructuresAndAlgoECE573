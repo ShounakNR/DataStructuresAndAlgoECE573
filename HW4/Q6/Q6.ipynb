{
 "cells": [
  {
   "cell_type": "code",
   "execution_count": 1,
   "metadata": {},
   "outputs": [],
   "source": [
    "# directed Djikstras\n",
    "import math\n",
    "from collections import defaultdict \n",
    "\n",
    "class Graph:  \n",
    "    def __init__(self,Number): \n",
    "  \n",
    "        self.graph = defaultdict(list) \n",
    "        self.edgeTo = {}\n",
    "        self.numberOfNodes = Number\n",
    "        self.pathhelper=[]\n",
    "        self.auxdistTo=[float('inf')]*self.numberOfNodes\n",
    "        self.distTo=[float('inf')]*self.numberOfNodes\n",
    "        \n",
    " \n",
    "    def addEdge(self,u,v,w): \n",
    "        self.graph[u].append([v,w])\n",
    "    \n",
    "    def minimum(self,a,b):\n",
    "        if a<=b:\n",
    "            return a\n",
    "        else:\n",
    "            return b\n",
    "        \n",
    "    def Djikstra(self,source):\n",
    "        self.pathhelper.append(source)\n",
    "        self.distTo[source]=0\n",
    "        self.edgeTo[source]=0\n",
    "        \n",
    "        while True:\n",
    "            if self.distTo[source]==float('inf'):\n",
    "                break\n",
    "            for i in self.graph[source]:\n",
    "                print(source,self.distTo,i[1],self.auxdistTo,i[0],self.pathhelper)\n",
    "                if i[0] in self.pathhelper:\n",
    "                    continue\n",
    "                if (self.distTo[source]+i[1])<=self.auxdistTo[i[0]]:\n",
    "                    self.auxdistTo[i[0]]=self.distTo[source]+i[1]\n",
    "                    print(self.auxdistTo)\n",
    "                    self.edgeTo[i[0]]=(source,i[0])\n",
    "                else:\n",
    "                    pass\n",
    "\n",
    "            a=self.auxdistTo.index(min(self.auxdistTo))\n",
    "            source = a\n",
    "            if self.auxdistTo[source]<self.distTo[source]:\n",
    "                self.distTo[source]=self.auxdistTo[source]\n",
    "#             print(source,len(self.pathhelper))\n",
    "            self.auxdistTo[source]=float('inf')\n",
    "            if source not in self.pathhelper:\n",
    "                self.pathhelper.append(source)\n",
    "            \n",
    "            if len(self.pathhelper)==self.numberOfNodes:\n",
    "                break\n",
    "            \n",
    "        print(self.distTo,\"FINAL\",self.pathhelper)\n",
    "           \n",
    "        print(self.edgeTo)\n",
    "        \n",
    "        \n",
    "    \n"
   ]
  },
  {
   "cell_type": "code",
   "execution_count": 2,
   "metadata": {},
   "outputs": [
    {
     "data": {
      "text/plain": [
       "defaultdict(list,\n",
       "            {4: [[5, 0.35], [7, 0.37]],\n",
       "             5: [[4, 0.35], [7, 0.28], [1, 0.32]],\n",
       "             7: [[5, 0.28], [3, 0.39]],\n",
       "             0: [[4, 0.38], [2, 0.26]],\n",
       "             1: [[3, 0.29]],\n",
       "             2: [[7, 0.34]],\n",
       "             6: [[2, -1.2], [0, -1.4], [4, -1.25]],\n",
       "             3: [[6, 0.52]]})"
      ]
     },
     "execution_count": 2,
     "metadata": {},
     "output_type": "execute_result"
    }
   ],
   "source": [
    "g = Graph(8) \n",
    "g.addEdge(4,5,0.35) \n",
    "g.addEdge(5,4,0.35) \n",
    "g.addEdge(4,7,0.37)\n",
    "g.addEdge(5,7,0.28)\n",
    "g.addEdge(7,5,0.28)\n",
    "g.addEdge(5,1,0.32)\n",
    "g.addEdge(0,4,0.38)\n",
    "g.addEdge(0,2,0.26)\n",
    "g.addEdge(7,3,0.39)\n",
    "g.addEdge(1,3,0.29)\n",
    "g.addEdge(2,7,0.34)\n",
    "g.addEdge(6,2,-1.20)\n",
    "g.addEdge(3,6,0.52)\n",
    "g.addEdge(6,0,-1.40)\n",
    "g.addEdge(6,4,-1.25)\n",
    "\n",
    "g.graph\n"
   ]
  },
  {
   "cell_type": "code",
   "execution_count": 3,
   "metadata": {},
   "outputs": [
    {
     "name": "stdout",
     "output_type": "stream",
     "text": [
      "0 [0, inf, inf, inf, inf, inf, inf, inf] 0.38 [inf, inf, inf, inf, inf, inf, inf, inf] 4 [0]\n",
      "[inf, inf, inf, inf, 0.38, inf, inf, inf]\n",
      "0 [0, inf, inf, inf, inf, inf, inf, inf] 0.26 [inf, inf, inf, inf, 0.38, inf, inf, inf] 2 [0]\n",
      "[inf, inf, 0.26, inf, 0.38, inf, inf, inf]\n",
      "2 [0, inf, 0.26, inf, inf, inf, inf, inf] 0.34 [inf, inf, inf, inf, 0.38, inf, inf, inf] 7 [0, 2]\n",
      "[inf, inf, inf, inf, 0.38, inf, inf, 0.6000000000000001]\n",
      "4 [0, inf, 0.26, inf, 0.38, inf, inf, inf] 0.35 [inf, inf, inf, inf, inf, inf, inf, 0.6000000000000001] 5 [0, 2, 4]\n",
      "[inf, inf, inf, inf, inf, 0.73, inf, 0.6000000000000001]\n",
      "4 [0, inf, 0.26, inf, 0.38, inf, inf, inf] 0.37 [inf, inf, inf, inf, inf, 0.73, inf, 0.6000000000000001] 7 [0, 2, 4]\n",
      "7 [0, inf, 0.26, inf, 0.38, inf, inf, 0.6000000000000001] 0.28 [inf, inf, inf, inf, inf, 0.73, inf, inf] 5 [0, 2, 4, 7]\n",
      "7 [0, inf, 0.26, inf, 0.38, inf, inf, 0.6000000000000001] 0.39 [inf, inf, inf, inf, inf, 0.73, inf, inf] 3 [0, 2, 4, 7]\n",
      "[inf, inf, inf, 0.9900000000000001, inf, 0.73, inf, inf]\n",
      "5 [0, inf, 0.26, inf, 0.38, 0.73, inf, 0.6000000000000001] 0.35 [inf, inf, inf, 0.9900000000000001, inf, inf, inf, inf] 4 [0, 2, 4, 7, 5]\n",
      "5 [0, inf, 0.26, inf, 0.38, 0.73, inf, 0.6000000000000001] 0.28 [inf, inf, inf, 0.9900000000000001, inf, inf, inf, inf] 7 [0, 2, 4, 7, 5]\n",
      "5 [0, inf, 0.26, inf, 0.38, 0.73, inf, 0.6000000000000001] 0.32 [inf, inf, inf, 0.9900000000000001, inf, inf, inf, inf] 1 [0, 2, 4, 7, 5]\n",
      "[inf, 1.05, inf, 0.9900000000000001, inf, inf, inf, inf]\n",
      "3 [0, inf, 0.26, 0.9900000000000001, 0.38, 0.73, inf, 0.6000000000000001] 0.52 [inf, 1.05, inf, inf, inf, inf, inf, inf] 6 [0, 2, 4, 7, 5, 3]\n",
      "[inf, 1.05, inf, inf, inf, inf, 1.5100000000000002, inf]\n",
      "1 [0, 1.05, 0.26, 0.9900000000000001, 0.38, 0.73, inf, 0.6000000000000001] 0.29 [inf, inf, inf, inf, inf, inf, 1.5100000000000002, inf] 3 [0, 2, 4, 7, 5, 3, 1]\n",
      "[0, 1.05, 0.26, 0.9900000000000001, 0.38, 0.73, 1.5100000000000002, 0.6000000000000001] FINAL [0, 2, 4, 7, 5, 3, 1, 6]\n",
      "{0: 0, 4: (0, 4), 2: (0, 2), 7: (2, 7), 5: (4, 5), 3: (7, 3), 1: (5, 1), 6: (3, 6)}\n"
     ]
    }
   ],
   "source": [
    "g.Djikstra(0)"
   ]
  },
  {
   "cell_type": "code",
   "execution_count": 4,
   "metadata": {},
   "outputs": [
    {
     "data": {
      "text/plain": [
       "defaultdict(list,\n",
       "            {4: [[5, 0.35], [7, 0.37]],\n",
       "             5: [[4, -0.66], [7, 0.28], [1, 0.32]],\n",
       "             7: [[5, 0.28], [3, 0.39]],\n",
       "             0: [[4, 0.38], [2, 0.26]],\n",
       "             1: [[3, 0.29]],\n",
       "             2: [[7, 0.34]],\n",
       "             6: [[2, 0.4], [0, 0.58], [4, 0.93]],\n",
       "             3: [[6, 0.52]]})"
      ]
     },
     "execution_count": 4,
     "metadata": {},
     "output_type": "execute_result"
    }
   ],
   "source": [
    "g = Graph(8) \n",
    "g.addEdge(4,5,0.35) \n",
    "g.addEdge(5,4,-0.66) \n",
    "g.addEdge(4,7,0.37)\n",
    "g.addEdge(5,7,0.28)\n",
    "g.addEdge(7,5,0.28)\n",
    "g.addEdge(5,1,0.32)\n",
    "g.addEdge(0,4,0.38)\n",
    "g.addEdge(0,2,0.26)\n",
    "g.addEdge(7,3,0.39)\n",
    "g.addEdge(1,3,0.29)\n",
    "g.addEdge(2,7,0.34)\n",
    "g.addEdge(6,2,0.40)\n",
    "g.addEdge(3,6,0.52)\n",
    "g.addEdge(6,0,0.58)\n",
    "g.addEdge(6,4,0.93)\n",
    "\n",
    "g.graph\n"
   ]
  },
  {
   "cell_type": "code",
   "execution_count": 5,
   "metadata": {},
   "outputs": [
    {
     "name": "stdout",
     "output_type": "stream",
     "text": [
      "0 [0, inf, inf, inf, inf, inf, inf, inf] 0.38 [inf, inf, inf, inf, inf, inf, inf, inf] 4 [0]\n",
      "[inf, inf, inf, inf, 0.38, inf, inf, inf]\n",
      "0 [0, inf, inf, inf, inf, inf, inf, inf] 0.26 [inf, inf, inf, inf, 0.38, inf, inf, inf] 2 [0]\n",
      "[inf, inf, 0.26, inf, 0.38, inf, inf, inf]\n",
      "2 [0, inf, 0.26, inf, inf, inf, inf, inf] 0.34 [inf, inf, inf, inf, 0.38, inf, inf, inf] 7 [0, 2]\n",
      "[inf, inf, inf, inf, 0.38, inf, inf, 0.6000000000000001]\n",
      "4 [0, inf, 0.26, inf, 0.38, inf, inf, inf] 0.35 [inf, inf, inf, inf, inf, inf, inf, 0.6000000000000001] 5 [0, 2, 4]\n",
      "[inf, inf, inf, inf, inf, 0.73, inf, 0.6000000000000001]\n",
      "4 [0, inf, 0.26, inf, 0.38, inf, inf, inf] 0.37 [inf, inf, inf, inf, inf, 0.73, inf, 0.6000000000000001] 7 [0, 2, 4]\n",
      "7 [0, inf, 0.26, inf, 0.38, inf, inf, 0.6000000000000001] 0.28 [inf, inf, inf, inf, inf, 0.73, inf, inf] 5 [0, 2, 4, 7]\n",
      "7 [0, inf, 0.26, inf, 0.38, inf, inf, 0.6000000000000001] 0.39 [inf, inf, inf, inf, inf, 0.73, inf, inf] 3 [0, 2, 4, 7]\n",
      "[inf, inf, inf, 0.9900000000000001, inf, 0.73, inf, inf]\n",
      "5 [0, inf, 0.26, inf, 0.38, 0.73, inf, 0.6000000000000001] -0.66 [inf, inf, inf, 0.9900000000000001, inf, inf, inf, inf] 4 [0, 2, 4, 7, 5]\n",
      "5 [0, inf, 0.26, inf, 0.38, 0.73, inf, 0.6000000000000001] 0.28 [inf, inf, inf, 0.9900000000000001, inf, inf, inf, inf] 7 [0, 2, 4, 7, 5]\n",
      "5 [0, inf, 0.26, inf, 0.38, 0.73, inf, 0.6000000000000001] 0.32 [inf, inf, inf, 0.9900000000000001, inf, inf, inf, inf] 1 [0, 2, 4, 7, 5]\n",
      "[inf, 1.05, inf, 0.9900000000000001, inf, inf, inf, inf]\n",
      "3 [0, inf, 0.26, 0.9900000000000001, 0.38, 0.73, inf, 0.6000000000000001] 0.52 [inf, 1.05, inf, inf, inf, inf, inf, inf] 6 [0, 2, 4, 7, 5, 3]\n",
      "[inf, 1.05, inf, inf, inf, inf, 1.5100000000000002, inf]\n",
      "1 [0, 1.05, 0.26, 0.9900000000000001, 0.38, 0.73, inf, 0.6000000000000001] 0.29 [inf, inf, inf, inf, inf, inf, 1.5100000000000002, inf] 3 [0, 2, 4, 7, 5, 3, 1]\n",
      "[0, 1.05, 0.26, 0.9900000000000001, 0.38, 0.73, 1.5100000000000002, 0.6000000000000001] FINAL [0, 2, 4, 7, 5, 3, 1, 6]\n",
      "{0: 0, 4: (0, 4), 2: (0, 2), 7: (2, 7), 5: (4, 5), 3: (7, 3), 1: (5, 1), 6: (3, 6)}\n"
     ]
    }
   ],
   "source": [
    "g.Djikstra(0)"
   ]
  },
  {
   "cell_type": "code",
   "execution_count": null,
   "metadata": {},
   "outputs": [],
   "source": []
  }
 ],
 "metadata": {
  "kernelspec": {
   "display_name": "Python 3",
   "language": "python",
   "name": "python3"
  },
  "language_info": {
   "codemirror_mode": {
    "name": "ipython",
    "version": 3
   },
   "file_extension": ".py",
   "mimetype": "text/x-python",
   "name": "python",
   "nbconvert_exporter": "python",
   "pygments_lexer": "ipython3",
   "version": "3.7.4"
  }
 },
 "nbformat": 4,
 "nbformat_minor": 2
}
