{
 "cells": [
  {
   "cell_type": "code",
   "execution_count": 9,
   "metadata": {},
   "outputs": [],
   "source": [
    "# https://algorithmtutor.com/Computational-Geometry/Convex-Hull-Algorithms-Jarvis-s-March/\n",
    "import math\n",
    "class ConvexHull():\n",
    "    def __init__(self):\n",
    "        self.HullArray=[]\n",
    "        self.pointsSet=[]\n",
    "        \n",
    "    def addPoints(self,x,y):\n",
    "        self.pointsSet.append([x,y])\n",
    "        \n",
    "    def distance_between(self,point1,point2):\n",
    "        return math.sqrt((point1[0]-point2[0])**2+(point1[1]-point2[1])**2)\n",
    "    \n",
    "    def orientation_check(self,point1,point2,point3):\n",
    "        if (point2[1]-point3[1])*(point3[0]-point1[0])>(point3[1]-point1[1])*(point2[0]-point3[0]):\n",
    "            return 1\n",
    "        elif (point2[1]-point3[1])*(point3[0]-point1[0])==(point3[1]-point1[1])*(point2[0]-point3[0]):\n",
    "            return 0\n",
    "        else:\n",
    "            return -1\n",
    "\n",
    "    def leftmost_point(self):\n",
    "        min_point = 0\n",
    "        min_x = self.pointsSet[0][0]\n",
    "        for i in range(0,len(self.pointsSet)):\n",
    "            if min_x > self.pointsSet[i][0]:\n",
    "                min_x = self.pointsSet[i][0]\n",
    "                min_point = i\n",
    "        return min_point\n",
    "    \n",
    "    def jarvis_march_boundary(self):\n",
    "        min_point = self.leftmost_point()\n",
    "        l = min_point\n",
    "        \n",
    "        self.HullArray.append(self.pointsSet[min_point])\n",
    "        while (True):\n",
    "            q = (l + 1) % len(self.pointsSet)\n",
    "            for i in range(len(self.pointsSet)):\n",
    "                if i == l:\n",
    "                    continue\n",
    "                d = self.orientation_check(self.pointsSet[l], self.pointsSet[i], self.pointsSet[q])\n",
    "                if d > 0 or (d == 0 and self.distance_between(self.pointsSet[i], self.pointsSet[l]) > self.distance_between(self.pointsSet[q], self.pointsSet[l])):\n",
    "                    q = i\n",
    "            l = q\n",
    "            if l == min_point:\n",
    "                break\n",
    "            self.HullArray.append(self.pointsSet[q])\n",
    "\n",
    "\n",
    "        return self.HullArray\n",
    "    \n",
    "c = ConvexHull()\n",
    "c.addPoints(0,0)\n",
    "c.addPoints(5,2)\n",
    "c.addPoints(3,1)\n",
    "c.addPoints(3,3)\n",
    "c.addPoints(5,5)\n",
    "c.addPoints(1,4)\n",
    "c.addPoints(9,6)\n",
    "c.addPoints(7,0)"
   ]
  },
  {
   "cell_type": "code",
   "execution_count": 10,
   "metadata": {},
   "outputs": [
    {
     "data": {
      "text/plain": [
       "[[0, 0], [1, 4], [9, 6], [7, 0]]"
      ]
     },
     "execution_count": 10,
     "metadata": {},
     "output_type": "execute_result"
    }
   ],
   "source": [
    "c.jarvis_march_boundary()"
   ]
  },
  {
   "cell_type": "code",
   "execution_count": null,
   "metadata": {},
   "outputs": [],
   "source": []
  }
 ],
 "metadata": {
  "kernelspec": {
   "display_name": "Python 3",
   "language": "python",
   "name": "python3"
  },
  "language_info": {
   "codemirror_mode": {
    "name": "ipython",
    "version": 3
   },
   "file_extension": ".py",
   "mimetype": "text/x-python",
   "name": "python",
   "nbconvert_exporter": "python",
   "pygments_lexer": "ipython3",
   "version": "3.7.4"
  }
 },
 "nbformat": 4,
 "nbformat_minor": 2
}
