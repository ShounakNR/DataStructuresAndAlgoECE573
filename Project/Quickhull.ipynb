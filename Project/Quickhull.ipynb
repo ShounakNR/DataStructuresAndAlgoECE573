{
 "cells": [
  {
   "cell_type": "code",
   "execution_count": 1,
   "metadata": {},
   "outputs": [],
   "source": [
    "import math\n",
    "import numpy as np\n",
    "\n",
    "class Quick_hull():\n",
    "    \n",
    "    def __init__(self):\n",
    "        self.points=[]\n",
    "        self.sorted_points=[]\n",
    "        self.number_of_points= len(self.points)\n",
    "        self.convex_hull=[]\n",
    "        \n",
    "    def add_points(self,x,y):\n",
    "        self.points.append([x,y])\n",
    "        \n",
    "    def sort_points(self):\n",
    "        self.sorted_points = sorted(self.points)\n",
    "        return self.sorted_points\n",
    "    \n",
    "    def line_dist(self,p1,p2,p3): #distance of p3 from the line made by p2 and p1\n",
    "            p1 = np.array(p1)\n",
    "            p2 = np.array(p2)\n",
    "            p3 = np.array(p3)\n",
    "            distance = np.cross(p2-p1,p3-p1)/np.linalg.norm(p2-p1)\n",
    "            return distance\n",
    "        \n",
    "    def quickhull_util(self,array,lowest,highest):\n",
    "        if len(array) == 0:\n",
    "            return\n",
    "        max_distance = 0\n",
    "        max_point= None\n",
    "        \n",
    "        # find the point which is at the maximum distance from the line joining lowest and highest\n",
    "        for i in array:\n",
    "            point_dist = self.line_dist(lowest,highest,i)\n",
    "            if point_dist>=max_distance:\n",
    "                max_distance=point_dist\n",
    "                max_point=i\n",
    "        self.convex_hull.append(max_point)\n",
    "        \n",
    "        # find points in the array that is on the right of the lines joining lowest to max_point and \n",
    "        #max_point to highest\n",
    "        sub_left_array=[]\n",
    "        sub_right_array=[]\n",
    "        for i in array:\n",
    "            if (i[1]-lowest[1])*(max_point[0]-lowest[0]) - (i[0]-lowest[0])*(max_point[1]-lowest[1]) > 0:\n",
    "                sub_left_array.append(i)\n",
    "            elif (i[1]-max_point[1])*(highest[0]-max_point[0]) - (i[0]-max_point[0])*(highest[1]-max_point[1]) > 0:\n",
    "                sub_right_array.append(i)\n",
    "            else:\n",
    "                pass\n",
    "        \n",
    "        # recursively call on the new formed divisions.\n",
    "        print(sub_left_array,sub_right_array)\n",
    "        self.quickhull_util(sub_left_array,lowest,max_point)\n",
    "        self.quickhull_util(sub_right_array,max_point,highest)\n",
    "        \n",
    "        \n",
    "    \n",
    "    def quickhull(self):\n",
    "        #sort the points on basis of x coordinates, select minimum x and maximum x\n",
    "        self.sort_points()\n",
    "        min_xy = self.sorted_points[0]\n",
    "        max_xy = self.sorted_points[-1]\n",
    "        \n",
    "        # add the 2 points to the convex hull final array\n",
    "        self.convex_hull.append(min_xy)\n",
    "        self.convex_hull.append(max_xy)\n",
    "        \n",
    "        # divide the points set into 2 halves based on the line joining min_xy, max_xy\n",
    "        left_array=[]\n",
    "        right_array=[]\n",
    "        for i in self.sorted_points:\n",
    "            if (i[1]-min_xy[1])*(max_xy[0]-min_xy[0]) - (i[0]-min_xy[0])*(max_xy[1]-min_xy[1]) > 0:\n",
    "                left_array.append(i)\n",
    "            elif (i[1]-min_xy[1])*(max_xy[0]-min_xy[0]) - (i[0]-min_xy[0])*(max_xy[1]-min_xy[1]) < 0:\n",
    "                right_array.append(i)\n",
    "            else:\n",
    "                pass\n",
    "        print(left_array,right_array)\n",
    "        \n",
    "        self.quickhull_util(left_array,min_xy,max_xy)\n",
    "        self.quickhull_util(right_array,max_xy,min_xy)\n",
    "        "
   ]
  },
  {
   "cell_type": "code",
   "execution_count": 2,
   "metadata": {},
   "outputs": [],
   "source": [
    "q=Quick_hull()\n",
    "q.add_points(0,0)\n",
    "q.add_points(5,1)\n",
    "q.add_points(1,-4)\n",
    "q.add_points(3,-5)\n",
    "q.add_points(4,-3)\n",
    "q.add_points(4,-1)\n",
    "q.add_points(2,-1)\n",
    "q.add_points(2.5,0.5)\n",
    "q.add_points(2,1)\n",
    "q.add_points(3,2)\n",
    "q.add_points(3,3)\n",
    "q.add_points(4,6)\n",
    "q.add_points(0,1)\n",
    "# q.add_points(56, 6)\n",
    "# q.add_points(5, 48)\n",
    "# q.add_points(94, 60)\n",
    "# q.add_points(55, 51)\n",
    "# q.add_points(62, 90)\n",
    "# q.add_points(20, 51)\n",
    "\n",
    "# [(56, 6), (5, 48), (94, 60), (55, 51), (62, 90), (20, 51)]"
   ]
  },
  {
   "cell_type": "code",
   "execution_count": 3,
   "metadata": {},
   "outputs": [
    {
     "data": {
      "text/plain": [
       "[[0, 0],\n",
       " [0, 1],\n",
       " [1, -4],\n",
       " [2, -1],\n",
       " [2, 1],\n",
       " [2.5, 0.5],\n",
       " [3, -5],\n",
       " [3, 2],\n",
       " [3, 3],\n",
       " [4, -3],\n",
       " [4, -1],\n",
       " [4, 6],\n",
       " [5, 1]]"
      ]
     },
     "execution_count": 3,
     "metadata": {},
     "output_type": "execute_result"
    }
   ],
   "source": [
    "q.sort_points()"
   ]
  },
  {
   "cell_type": "code",
   "execution_count": 4,
   "metadata": {},
   "outputs": [
    {
     "name": "stdout",
     "output_type": "stream",
     "text": [
      "[[0, 1], [2, 1], [3, 2], [3, 3], [4, 6]] [[1, -4], [2, -1], [3, -5], [4, -3], [4, -1]]\n",
      "[[0, 1]] []\n",
      "[] []\n",
      "[[4, -3]] [[1, -4]]\n",
      "[] []\n",
      "[] []\n"
     ]
    }
   ],
   "source": [
    "q.quickhull()"
   ]
  },
  {
   "cell_type": "code",
   "execution_count": 72,
   "metadata": {},
   "outputs": [
    {
     "data": {
      "text/plain": [
       "[[5, 48], [94, 60], [62, 90], [56, 6]]"
      ]
     },
     "execution_count": 72,
     "metadata": {},
     "output_type": "execute_result"
    }
   ],
   "source": [
    "q.convex_hull"
   ]
  },
  {
   "cell_type": "code",
   "execution_count": null,
   "metadata": {},
   "outputs": [],
   "source": []
  }
 ],
 "metadata": {
  "kernelspec": {
   "display_name": "Python 3",
   "language": "python",
   "name": "python3"
  },
  "language_info": {
   "codemirror_mode": {
    "name": "ipython",
    "version": 3
   },
   "file_extension": ".py",
   "mimetype": "text/x-python",
   "name": "python",
   "nbconvert_exporter": "python",
   "pygments_lexer": "ipython3",
   "version": "3.7.4"
  }
 },
 "nbformat": 4,
 "nbformat_minor": 2
}
