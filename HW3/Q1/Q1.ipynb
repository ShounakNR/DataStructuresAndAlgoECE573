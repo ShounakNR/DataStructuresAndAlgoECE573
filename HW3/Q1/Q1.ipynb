{
 "cells": [
  {
   "cell_type": "code",
   "execution_count": 22,
   "metadata": {},
   "outputs": [],
   "source": [
    "RED = True\n",
    "BLACK = False"
   ]
  },
  {
   "cell_type": "code",
   "execution_count": 23,
   "metadata": {},
   "outputs": [],
   "source": [
    "class Node:\n",
    "    def __init__ (self,key,value,color):\n",
    "        self.right = None\n",
    "        self.left = None\n",
    "        self.key = key\n",
    "        self.value=value\n",
    "        self.count = 1\n",
    "        self.color = color\n",
    "\n",
    "\n",
    "    \n",
    "        "
   ]
  },
  {
   "cell_type": "code",
   "execution_count": 30,
   "metadata": {},
   "outputs": [],
   "source": [
    "class BST:\n",
    "    def __init__(self):\n",
    "        self.root = None\n",
    "    \n",
    "    def isRed(self,N):\n",
    "        if (N==None):\n",
    "            return False\n",
    "        return N.color == RED\n",
    "    \n",
    "        \n",
    "    def flipColor(self,N1):\n",
    "        if not self.isRed(N1):\n",
    "            if self.isRed(N1.left) :\n",
    "                if self.isRed(N1.right):\n",
    "                    N1.color = RED\n",
    "                    N1.left.color = BLACK\n",
    "                    N1.right.color = BLACK\n",
    "                \n",
    "    def rotateLeft(self,N1):\n",
    "        if self.isRed(N1.right):\n",
    "            x = N1.right\n",
    "            N1.right=x.left\n",
    "            x.left = N1\n",
    "            x.color=N1.color\n",
    "            N1.color=RED\n",
    "            return x\n",
    "        \n",
    "    def rotateRight(self,N1):\n",
    "        if self.isRed(N1.left):\n",
    "            x= N1.left\n",
    "            N1.left = x.right\n",
    "            x.right= N1\n",
    "            x.color = N1.color\n",
    "            N1.color= RED\n",
    "            return x\n",
    "        \n",
    "    def put(self,key,value):\n",
    "        \n",
    "        def put1(N,key,value):\n",
    "            if N==None:\n",
    "                N1 = Node(key,value,RED)\n",
    "                return N1\n",
    "            if key<N.key:\n",
    "                N.left=put1(N.left,key,value)\n",
    "            elif key>N.key:\n",
    "                N.right=put1(N.right,key,value)\n",
    "            else:\n",
    "                N.value = value\n",
    "               \n",
    "            if self.isRed(N.right) and not self.isRed(N.left):\n",
    "                N=self.rotateLeft(N)\n",
    "            if self.isRed(N.left) and self.isRed(N.left.left):\n",
    "                N = self.rotateRight(N)\n",
    "            if self.isRed(N.left) and self.isRed(N.right):\n",
    "                self.flipColor(N)\n",
    "            return N\n",
    "        \n",
    "        self.root = put1(self.root,key,value)\n",
    "        self.root.color = BLACK\n",
    "        \n",
    "    "
   ]
  },
  {
   "cell_type": "code",
   "execution_count": 31,
   "metadata": {},
   "outputs": [],
   "source": [
    "def inorder(n1): \n",
    "    if n1:\n",
    "        inorder(n1.left)\n",
    "        print(n1.key,n1.color)\n",
    "        inorder(n1.right)"
   ]
  },
  {
   "cell_type": "code",
   "execution_count": 32,
   "metadata": {},
   "outputs": [],
   "source": [
    "b= BST()"
   ]
  },
  {
   "cell_type": "code",
   "execution_count": 139,
   "metadata": {},
   "outputs": [],
   "source": [
    "file1 = open(\"select-data.txt\",\"r\")\n",
    "list1 = file1.readlines()\n",
    "for i in range(len(list1)):\n",
    "    list1[i] = int(list1[i])"
   ]
  },
  {
   "cell_type": "code",
   "execution_count": 33,
   "metadata": {},
   "outputs": [],
   "source": [
    "arr1=['s','e','a','r','c','h','e','x','a','m','p','l','e']"
   ]
  },
  {
   "cell_type": "code",
   "execution_count": 140,
   "metadata": {},
   "outputs": [],
   "source": [
    "for i in range(len(list1)):\n",
    "#     print(i)\n",
    "    b.put(list1[i],i)"
   ]
  },
  {
   "cell_type": "code",
   "execution_count": 34,
   "metadata": {},
   "outputs": [
    {
     "name": "stdout",
     "output_type": "stream",
     "text": [
      "0\n",
      "1\n",
      "2\n",
      "3\n",
      "4\n",
      "5\n",
      "6\n",
      "7\n",
      "8\n",
      "9\n",
      "10\n",
      "11\n",
      "12\n"
     ]
    }
   ],
   "source": [
    "for i in range(len(arr1)):\n",
    "    print(i)\n",
    "    b.put(arr1[i],i)"
   ]
  },
  {
   "cell_type": "code",
   "execution_count": 35,
   "metadata": {},
   "outputs": [
    {
     "name": "stdout",
     "output_type": "stream",
     "text": [
      "a True\n",
      "c False\n",
      "e False\n",
      "h True\n",
      "l False\n",
      "m False\n",
      "p False\n",
      "r False\n",
      "s True\n",
      "x False\n"
     ]
    }
   ],
   "source": [
    "inorder(b.root)"
   ]
  },
  {
   "cell_type": "code",
   "execution_count": null,
   "metadata": {},
   "outputs": [],
   "source": []
  }
 ],
 "metadata": {
  "kernelspec": {
   "display_name": "Python 3",
   "language": "python",
   "name": "python3"
  },
  "language_info": {
   "codemirror_mode": {
    "name": "ipython",
    "version": 3
   },
   "file_extension": ".py",
   "mimetype": "text/x-python",
   "name": "python",
   "nbconvert_exporter": "python",
   "pygments_lexer": "ipython3",
   "version": "3.7.4"
  }
 },
 "nbformat": 4,
 "nbformat_minor": 2
}
