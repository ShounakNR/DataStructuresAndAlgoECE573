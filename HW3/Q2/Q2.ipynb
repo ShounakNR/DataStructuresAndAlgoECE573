{
 "cells": [
  {
   "cell_type": "code",
   "execution_count": 39,
   "metadata": {},
   "outputs": [],
   "source": [
    "import random"
   ]
  },
  {
   "cell_type": "code",
   "execution_count": 40,
   "metadata": {},
   "outputs": [],
   "source": [
    "RED = True\n",
    "BLACK = False"
   ]
  },
  {
   "cell_type": "code",
   "execution_count": 41,
   "metadata": {},
   "outputs": [],
   "source": [
    "class Node:\n",
    "    def __init__ (self,key,value,color):\n",
    "        self.right = None\n",
    "        self.left = None\n",
    "        self.key = key\n",
    "        self.value=value\n",
    "        self.count = 1\n",
    "        self.color = color\n",
    "\n",
    "    \n",
    "        "
   ]
  },
  {
   "cell_type": "code",
   "execution_count": 47,
   "metadata": {},
   "outputs": [],
   "source": [
    "class BST:\n",
    "    def __init__(self):\n",
    "        self.root = None\n",
    "    \n",
    "    def isRed(self,N):\n",
    "        if (N==None):\n",
    "            return False\n",
    "        return N.color == RED\n",
    "    \n",
    "    def size (self,N1):\n",
    "        if N1 == None:\n",
    "            return 0\n",
    "        return N1.count\n",
    "    \n",
    "        \n",
    "    def flipColor(self,N1):\n",
    "        if not self.isRed(N1):\n",
    "            if self.isRed(N1.left) :\n",
    "                if self.isRed(N1.right):\n",
    "                    N1.color = RED\n",
    "                    N1.left.color = BLACK\n",
    "                    N1.right.color = BLACK\n",
    "                \n",
    "    def rotateLeft(self,N1):\n",
    "        if self.isRed(N1.right):\n",
    "            x = N1.right\n",
    "            N1.right=x.left\n",
    "            x.left = N1\n",
    "            x.color=N1.color\n",
    "            N1.color=RED\n",
    "            x.count = N1.count\n",
    "            N1.count = 1 + self.size(N1.left) + self.size(N1.right)\n",
    "            return x\n",
    "        \n",
    "    def rotateRight(self,N1):\n",
    "        if self.isRed(N1.left):\n",
    "            x= N1.left\n",
    "            N1.left = x.right\n",
    "            x.right= N1\n",
    "            x.color = N1.color\n",
    "            N1.color= RED\n",
    "            x.count = N1.count\n",
    "            N1.count = 1 + self.size(N1.left) + self.size(N1.right)\n",
    "            return x\n",
    "        \n",
    "    def put(self,key,value):\n",
    "        \n",
    "        def put1(N,key,value):\n",
    "            if N==None:\n",
    "                N1 = Node(key,value,RED)\n",
    "                return N1\n",
    "            if key<N.key:\n",
    "                N.left=put1(N.left,key,value)\n",
    "            elif key>N.key:\n",
    "                N.right=put1(N.right,key,value)\n",
    "            else:\n",
    "                N.value = value\n",
    "#             N.count = 1 + self.size(N.left) + self.size(N.right)  \n",
    "            if self.isRed(N.right) and not self.isRed(N.left):\n",
    "                N=self.rotateLeft(N)\n",
    "            if self.isRed(N.left) and self.isRed(N.left.left):\n",
    "                N = self.rotateRight(N)\n",
    "            if self.isRed(N.left) and self.isRed(N.right):\n",
    "                self.flipColor(N)\n",
    "                \n",
    "            N.count = 1 + self.size(N.left) +self.size(N.right)\n",
    "            return N\n",
    "        \n",
    "        self.root = put1(self.root,key,value)\n",
    "        self.root.color = BLACK\n",
    "        \n",
    "    \n",
    "    def avgPathLen(self):\n",
    "        def avgPathLen1(N1):\n",
    "            List=[]\n",
    "            avg = 0\n",
    "            s =0\n",
    "            if N1 != None:\n",
    "                self.searchBST(N1,1,List)\n",
    "            if len(List)>0:\n",
    "                for i in range(len(List)):\n",
    "                    s += List[i]\n",
    "#                 print(self.size(self.root),self.counterRed())\n",
    "            avg = s/(self.size(self.root)- self.counterRed())\n",
    "            return avg\n",
    "        return avgPathLen1(self.root)\n",
    "    \n",
    "    def searchBST(self,x,length,list1):\n",
    "        if self.isRed(x):\n",
    "            if x.left != None:\n",
    "                self.searchBST(x.left, length, list1)\n",
    "            if x.right != None:\n",
    "                self.searchBST(x.right, length, list1)\n",
    "        else :\n",
    "            list1.append(length)\n",
    "            if x.left != None:\n",
    "                self.searchBST(x.left, length + 1, list1)\n",
    "            if x.right != None:\n",
    "                self.searchBST(x.right, length + 1, list1)\n",
    "    def counterRed(self):\n",
    "        def count1(N,redl):\n",
    "            if N == None:\n",
    "                return\n",
    "            if N.color == RED:\n",
    "                redl.append(1)\n",
    "            count1(N.left,redl)\n",
    "            count1(N.right,redl)\n",
    "        List2 = []\n",
    "        count1(self.root,List2)\n",
    "        return len(List2)"
   ]
  },
  {
   "cell_type": "code",
   "execution_count": 48,
   "metadata": {},
   "outputs": [],
   "source": [
    "def inorder(n1): \n",
    "    if n1:\n",
    "        inorder(n1.left)\n",
    "        print(n1.key,n1.color,n1.count)\n",
    "        inorder(n1.right)"
   ]
  },
  {
   "cell_type": "code",
   "execution_count": 49,
   "metadata": {},
   "outputs": [],
   "source": [
    "def orderedInsert(size):\n",
    "    b=BST()\n",
    "    for i in range(size):\n",
    "        b.put(i,i)\n",
    "    return b"
   ]
  },
  {
   "cell_type": "code",
   "execution_count": 50,
   "metadata": {},
   "outputs": [],
   "source": [
    "def randomInsert(size):\n",
    "    b=BST()\n",
    "    list1=[]\n",
    "    for i in range(size):\n",
    "        list1.append(i)\n",
    "    random.shuffle(list1)\n",
    "    for i in range(size):\n",
    "        b.put(list1[i],i)\n",
    "    return b"
   ]
  },
  {
   "cell_type": "code",
   "execution_count": 51,
   "metadata": {},
   "outputs": [
    {
     "name": "stdout",
     "output_type": "stream",
     "text": [
      "1.0 1.0\n",
      "1.0 1.0\n",
      "1.6666666666666667 1.6666666666666667\n",
      "2.4285714285714284 2.4285714285714284\n",
      "3.2666666666666666 2.5454545454545454\n",
      "4.161290322580645 3.409090909090909\n",
      "5.095238095238095 4.319148936170213\n",
      "6.05511811023622 5.268817204301075\n",
      "7.031372549019608 6.248704663212435\n",
      "8.017612524461839 6.283116883116883\n",
      "9.009775171065494 7.26058201058201\n",
      "10.005373717635564 8.263123359580053\n",
      "11.002930402930403 9.260572543916721\n",
      "12.001587107801246 10.250492772667542\n"
     ]
    }
   ],
   "source": [
    "sizeArr =[1,2,4,8,16,32,64,128,256,512,1024,2048,4096,8192]\n",
    "# sizeArr =[256]\n",
    "for i in range(len(sizeArr)):\n",
    "    avg_ordered = 0\n",
    "    avg_random = 0\n",
    "    b_ordered = orderedInsert(sizeArr[i])\n",
    "    b_random = randomInsert(sizeArr[i])\n",
    "#     inorder(b_ordered.root)\n",
    "#     inorder(b_random.root)\n",
    "#     print (b_ordered.size(b_ordered.root))\n",
    "    print(b_ordered.avgPathLen(),b_random.avgPathLen())"
   ]
  },
  {
   "cell_type": "code",
   "execution_count": 95,
   "metadata": {},
   "outputs": [
    {
     "name": "stdout",
     "output_type": "stream",
     "text": [
      "10 3\n",
      "2.4285714285714284\n"
     ]
    }
   ],
   "source": [
    "b=BST()\n",
    "arr1=['s','e','a','r','c','h','e','x','a','m','p','l','e']\n",
    "for i in range(len(arr1)):\n",
    "#     print(i)\n",
    "    b.put(arr1[i],i)\n",
    "print(b.avgPathLen())"
   ]
  },
  {
   "cell_type": "code",
   "execution_count": 96,
   "metadata": {},
   "outputs": [
    {
     "name": "stdout",
     "output_type": "stream",
     "text": [
      "a True 1\n",
      "c False 2\n",
      "e False 5\n",
      "h True 1\n",
      "l False 2\n",
      "m False 10\n",
      "p False 1\n",
      "r False 4\n",
      "s True 1\n",
      "x False 2\n"
     ]
    }
   ],
   "source": [
    "inorder(b.root)"
   ]
  },
  {
   "cell_type": "code",
   "execution_count": null,
   "metadata": {},
   "outputs": [],
   "source": []
  }
 ],
 "metadata": {
  "kernelspec": {
   "display_name": "Python 3",
   "language": "python",
   "name": "python3"
  },
  "language_info": {
   "codemirror_mode": {
    "name": "ipython",
    "version": 3
   },
   "file_extension": ".py",
   "mimetype": "text/x-python",
   "name": "python",
   "nbconvert_exporter": "python",
   "pygments_lexer": "ipython3",
   "version": "3.7.4"
  }
 },
 "nbformat": 4,
 "nbformat_minor": 2
}
