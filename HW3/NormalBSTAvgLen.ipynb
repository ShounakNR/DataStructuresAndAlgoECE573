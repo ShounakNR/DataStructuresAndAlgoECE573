{
 "cells": [
  {
   "cell_type": "code",
   "execution_count": 47,
   "metadata": {},
   "outputs": [],
   "source": [
    "import random"
   ]
  },
  {
   "cell_type": "code",
   "execution_count": 48,
   "metadata": {},
   "outputs": [],
   "source": [
    "class Node:\n",
    "    def __init__ (self,key,value):\n",
    "        self.right = None\n",
    "        self.left = None\n",
    "        self.key = key\n",
    "        self.value=value\n",
    "        self.count = 1\n",
    "        self.rank = None\n",
    "\n",
    "    \n",
    "        "
   ]
  },
  {
   "cell_type": "code",
   "execution_count": 49,
   "metadata": {},
   "outputs": [],
   "source": [
    "class BST:\n",
    "    def __init__(self):\n",
    "        self.root = None\n",
    "    def get(self,key):\n",
    "        n1 = self.root\n",
    "\n",
    "        while True:\n",
    "            if key < n1.key:\n",
    "                if n1.left==None:\n",
    "                    return [n1,-1]\n",
    "                else :\n",
    "                    n1= n1.left\n",
    "               \n",
    "            elif key > n1.key:\n",
    "                if n1.right==None:\n",
    "                    return [n1,1]\n",
    "                else :\n",
    "                    n1 = n1.right\n",
    "               \n",
    "            else:\n",
    "               \n",
    "                return [n1,n1.key]\n",
    "        \n",
    "    \n",
    "        \n",
    "    def size (self,N1):\n",
    "        if N1 == None:\n",
    "            return 0\n",
    "        return N1.count\n",
    "       \n",
    "    \n",
    "\n",
    "    def put(self,key,value):\n",
    "        \n",
    "        def put1(N,key,value):\n",
    "            if N==None:\n",
    "                N = Node(key,value)\n",
    "                return N\n",
    "            if key<N.key:\n",
    "                N.left=put1(N.left,key,value)\n",
    "            elif key>N.key:\n",
    "                N.right=put1(N.right,key,value)\n",
    "            else:\n",
    "                N.value = value\n",
    "            N.count = 1 + self.size(N.left) +self.size(N.right)\n",
    "            return N\n",
    "        self.root = put1(self.root,key,value)\n",
    "        \n",
    "    def rank (self,key):\n",
    "        def rank1 (key1,N1):\n",
    "            if N1 == None:\n",
    "                return 0\n",
    "            if key1 <N1.key:\n",
    "                return rank1(key1,N1.left)\n",
    "            elif key1 > N1.key:\n",
    "                return rank1(key1, N1.right)+1+self.size(N1.left)\n",
    "            else:\n",
    "                return self.size(N1.left)\n",
    "        return rank1(key,self.root)\n",
    "    \n",
    "    def select (self,rank):\n",
    "        def select1(N1,rank1):\n",
    "            if rank1<self.size(N1.left):\n",
    "                return select1(N1.left,rank1)\n",
    "            elif self.size(N1.left)==rank1:\n",
    "                return N1.key\n",
    "            else:\n",
    "                return select1(N1.right,rank1-1-self.size(N1.left))\n",
    "        return select1(self.root,rank)\n",
    "    \n",
    "    def avgPathLen(self):\n",
    "        def avgPathLen1(N1):\n",
    "            List=[]\n",
    "            avg = 0\n",
    "            s =0\n",
    "            if N1 != None:\n",
    "                self.searchBST(N1,0,List)\n",
    "            if len(List)>0:\n",
    "                for i in range(len(List)):\n",
    "                    s += List[i]\n",
    "#                     print(List[i])\n",
    "            avg = s/len(List)\n",
    "            return avg\n",
    "        return avgPathLen1(self.root)\n",
    "    \n",
    "    def searchBST(self,N1,l,list1):\n",
    "        if N1.left == None and N1.right == None:\n",
    "            list1.append(l)\n",
    "        if N1.left != None:\n",
    "            self.searchBST(N1.left,l+1,list1)\n",
    "        if N1.right != None:\n",
    "            self.searchBST(N1.right,l+1,list1)"
   ]
  },
  {
   "cell_type": "code",
   "execution_count": 50,
   "metadata": {},
   "outputs": [],
   "source": [
    "def inorder(n1): \n",
    "    if n1:\n",
    "        inorder(n1.left)\n",
    "        print(n1.key)\n",
    "        inorder(n1.right)"
   ]
  },
  {
   "cell_type": "code",
   "execution_count": 51,
   "metadata": {},
   "outputs": [],
   "source": [
    "def orderedInsert(size):\n",
    "    b=BST()\n",
    "    for i in range(size):\n",
    "        b.put(i,i)\n",
    "    return b"
   ]
  },
  {
   "cell_type": "code",
   "execution_count": 52,
   "metadata": {},
   "outputs": [],
   "source": [
    "def randomInsert(size):\n",
    "    b=BST()\n",
    "    list1=[]\n",
    "    for i in range(size):\n",
    "        list1.append(i)\n",
    "    random.shuffle(list1)\n",
    "    for i in range(size):\n",
    "        b.put(list1[i],i)\n",
    "    return b"
   ]
  },
  {
   "cell_type": "code",
   "execution_count": 53,
   "metadata": {},
   "outputs": [
    {
     "name": "stdout",
     "output_type": "stream",
     "text": [
      "1.0 1.0\n",
      "3.0 3.0\n",
      "7.0 2.6666666666666665\n"
     ]
    }
   ],
   "source": [
    "sizeArr =[2,4,8,16,32,64,128,256,512,1024,2048,4096,8192]\n",
    "# sizeArr =[2,4,8]\n",
    "for i in range(len(sizeArr)):\n",
    "    avg_ordered = 0\n",
    "    avg_random = 0\n",
    "    b_ordered = orderedInsert(sizeArr[i])\n",
    "    b_random = randomInsert(sizeArr[i])\n",
    "#     inorder(b_ordered.root)\n",
    "#     inorder(b_random.root)\n",
    "    print(b_ordered.avgPathLen(),b_random.avgPathLen())"
   ]
  },
  {
   "cell_type": "code",
   "execution_count": null,
   "metadata": {},
   "outputs": [],
   "source": []
  }
 ],
 "metadata": {
  "kernelspec": {
   "display_name": "Python 3",
   "language": "python",
   "name": "python3"
  },
  "language_info": {
   "codemirror_mode": {
    "name": "ipython",
    "version": 3
   },
   "file_extension": ".py",
   "mimetype": "text/x-python",
   "name": "python",
   "nbconvert_exporter": "python",
   "pygments_lexer": "ipython3",
   "version": "3.7.4"
  }
 },
 "nbformat": 4,
 "nbformat_minor": 2
}
